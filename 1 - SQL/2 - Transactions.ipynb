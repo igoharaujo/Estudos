{
    "metadata": {
        "kernelspec": {
            "name": "SQL",
            "display_name": "SQL",
            "language": "sql"
        },
        "language_info": {
            "name": "sql",
            "version": ""
        }
    },
    "nbformat_minor": 2,
    "nbformat": 4,
    "cells": [
        {
            "cell_type": "markdown",
            "source": [
                "# Transactions\n",
                "\n",
                "\\-\\> Transaction é um aação realizada dentro do banco de dados. Essa ação pode ser uma: atualização, iserção ou exclusão de dados do banco. Precisamos de transação  quando estamos alterando o banco de alguma forma, seja inserindo, atualizando ou excluindo dados.\n",
                "\n",
                "  \n",
                "\n",
                "\\-\\> BEGIN TRANSACTION          : inicia\n",
                "\n",
                "\\-\\> ROLLBACK TRANSACTION   : Desfaz\n",
                "\n",
                "\\-\\> COMMIT                               : Salva"
            ],
            "metadata": {
                "azdata_cell_guid": "00be31d1-785b-4bb0-9ebd-83bb30d9238d"
            },
            "attachments": {}
        },
        {
            "cell_type": "code",
            "source": [
                "--> Criando tabela ciente_aux copiado a estrutura e os dados da tabela cliente:\r\n",
                "SELECT * \r\n",
                "INTO CLIENTE_AUX\r\n",
                "FROM Cliente"
            ],
            "metadata": {
                "azdata_cell_guid": "32c62a8b-691a-45c5-9701-f3022babc3ca",
                "language": "sql"
            },
            "outputs": [
                {
                    "output_type": "error",
                    "ename": "",
                    "evalue": "Msg 2714, Level 16, State 6, Line 2\r\nJá existe um objeto com nome 'CLIENTE_AUX' no banco de dados.",
                    "traceback": []
                },
                {
                    "output_type": "display_data",
                    "data": {
                        "text/html": "Total execution time: 00:00:00.002"
                    },
                    "metadata": {}
                }
            ],
            "execution_count": 8
        },
        {
            "cell_type": "code",
            "source": [
                "SELECT * FROM Cliente_aux"
            ],
            "metadata": {
                "azdata_cell_guid": "74c23476-fbca-46b6-87eb-3dfcc434afa1",
                "language": "sql"
            },
            "outputs": [
                {
                    "output_type": "display_data",
                    "data": {
                        "text/html": "(5 rows affected)"
                    },
                    "metadata": {}
                },
                {
                    "output_type": "display_data",
                    "data": {
                        "text/html": "Total execution time: 00:00:00.014"
                    },
                    "metadata": {}
                },
                {
                    "output_type": "execute_result",
                    "execution_count": 33,
                    "data": {
                        "application/vnd.dataresource+json": {
                            "schema": {
                                "fields": [
                                    {
                                        "name": "id_cliente"
                                    },
                                    {
                                        "name": "nome"
                                    },
                                    {
                                        "name": "idade"
                                    }
                                ]
                            },
                            "data": [
                                {
                                    "id_cliente": "1",
                                    "nome": "João Silva",
                                    "idade": "30"
                                },
                                {
                                    "id_cliente": "2",
                                    "nome": "Maria Oliveira",
                                    "idade": "25"
                                },
                                {
                                    "id_cliente": "3",
                                    "nome": "Carlos Souza",
                                    "idade": "40"
                                },
                                {
                                    "id_cliente": "4",
                                    "nome": "João Silva",
                                    "idade": "30"
                                },
                                {
                                    "id_cliente": "7",
                                    "nome": "igor miguel",
                                    "idade": "30"
                                }
                            ]
                        },
                        "text/html": "<table><tr><th>id_cliente</th><th>nome</th><th>idade</th></tr><tr><td>1</td><td>João Silva</td><td>30</td></tr><tr><td>2</td><td>Maria Oliveira</td><td>25</td></tr><tr><td>3</td><td>Carlos Souza</td><td>40</td></tr><tr><td>4</td><td>João Silva</td><td>30</td></tr><tr><td>7</td><td>igor miguel</td><td>30</td></tr></table>"
                    },
                    "metadata": {}
                }
            ],
            "execution_count": 33
        },
        {
            "cell_type": "markdown",
            "source": [
                "# \\-\\> Commit e Rollback com Condicionais\n",
                "\n",
                "\\-\\> Se existe desfaz a transação, se não existir, salve a transação"
            ],
            "metadata": {
                "azdata_cell_guid": "730c7a60-dffe-4022-9ecc-96508a13ea18"
            },
            "attachments": {}
        },
        {
            "cell_type": "code",
            "source": [
                "DECLARE @contador INT\r\n",
                "\r\n",
                "\r\n",
                "begin tran T1\r\n",
                "INSERT into Cliente_aux\r\n",
                "(id_cliente, nome, idade)\r\n",
                "    VALUES\r\n",
                "(NEXT VALUE FOR clientes_seq, 'igor miguel', 30)\r\n",
                "\r\n",
                "SELECT @contador = COUNT(*) FROM Cliente_AUX WHERE nome = 'igor miguel'\r\n",
                "\r\n",
                "if @contador <= 1\r\n",
                "    BEGIN\r\n",
                "        COMMIT TRANSACTION T1\r\n",
                "        PRINT 'igor campos cadastrada com sucesso'\r\n",
                "\r\n",
                "END\r\n",
                "\r\n",
                "ELSE\r\n",
                "    BEGIN\r\n",
                "        ROLLBACK TRANSACTION T1\r\n",
                "        PRINT 'igor ja cadastrada'\r\n",
                "END"
            ],
            "metadata": {
                "azdata_cell_guid": "34beeb2f-b762-48ac-a6b8-e3c6ec6e308d",
                "language": "sql",
                "tags": []
            },
            "outputs": [
                {
                    "output_type": "display_data",
                    "data": {
                        "text/html": "(1 row affected)"
                    },
                    "metadata": {}
                },
                {
                    "output_type": "display_data",
                    "data": {
                        "text/html": "igor ja cadastrada"
                    },
                    "metadata": {}
                },
                {
                    "output_type": "display_data",
                    "data": {
                        "text/html": "Total execution time: 00:00:00.003"
                    },
                    "metadata": {}
                }
            ],
            "execution_count": 34
        }
    ]
}