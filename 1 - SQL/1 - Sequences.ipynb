{
    "metadata": {
        "kernelspec": {
            "name": "SQL",
            "display_name": "SQL",
            "language": "sql"
        },
        "language_info": {
            "name": "sql",
            "version": ""
        }
    },
    "nbformat_minor": 2,
    "nbformat": 4,
    "cells": [
        {
            "cell_type": "markdown",
            "source": [
                "# Sequences\n",
                "\n",
                "### **O que é sequences?**\n",
                "\n",
                "- **É um objeto que utilizamos para criação de números sequenciais únicos para as chaves primárias das tabelas.**\n",
                "- **Desta forma, não precisamos preencher sequencias de IDs manualmente, podemos gerar atomaticamente por meio de uma sequencia.**\n",
                "\n",
                "### **Sintaxe:**\n",
                "\n",
                "> **CREATE SEQUENCE nome\\_sequencia AS tipo**\n",
                "> \n",
                "> **START WITH n          -\\> configuramos o inicio**\n",
                "> \n",
                "> **INCREMENT BY n     -\\> qual vai ser o incremento**\n",
                "> \n",
                "> **MAXVALUE n | NO MAXVALUE    -\\> qual o valor maximo**\n",
                "> \n",
                "> **MINVALUE n  | NO MINVALUE     -\\>qual o valor minimo, caso seja regresivo**\n",
                "> \n",
                "> **CYCLE | NO CYCLE; -\\> quando atige o valor máximo, pode ou não valtar do começo.**"
            ],
            "metadata": {
                "azdata_cell_guid": "c66835f8-c864-4946-a3a5-c489cff2e891"
            },
            "attachments": {}
        },
        {
            "cell_type": "code",
            "source": [
                "--> Criando sequences:\r\n",
                "\r\n",
                "CREATE SEQUENCE clientes_seq AS INT\r\n",
                "    START WITH 1         \r\n",
                "    INCREMENT BY 1    \r\n",
                "    MAXVALUE 999999\r\n",
                "    NO CYCLE; "
            ],
            "metadata": {
                "azdata_cell_guid": "68b86aba-410c-4a94-8332-a5a4c6025ce7",
                "language": "sql"
            },
            "outputs": [
                {
                    "output_type": "error",
                    "ename": "",
                    "evalue": "Msg 2714, Level 16, State 8, Line 3\r\nJá existe um objeto com nome 'clientes_seq' no banco de dados.",
                    "traceback": []
                },
                {
                    "output_type": "display_data",
                    "data": {
                        "text/html": "Total execution time: 00:00:00.010"
                    },
                    "metadata": {}
                }
            ],
            "execution_count": 6
        },
        {
            "cell_type": "code",
            "source": [
                "--> Próximo valor da sequência:\r\n",
                "SELECT NEXT VALUE FOR clientes_seq;"
            ],
            "metadata": {
                "azdata_cell_guid": "e199680c-5400-4cb7-8f0f-13a49d086ce6",
                "language": "sql"
            },
            "outputs": [
                {
                    "output_type": "display_data",
                    "data": {
                        "text/html": "(1 row affected)"
                    },
                    "metadata": {}
                },
                {
                    "output_type": "display_data",
                    "data": {
                        "text/html": "Total execution time: 00:00:00.014"
                    },
                    "metadata": {}
                },
                {
                    "output_type": "execute_result",
                    "execution_count": 5,
                    "data": {
                        "application/vnd.dataresource+json": {
                            "schema": {
                                "fields": [
                                    {
                                        "name": "(No column name)"
                                    }
                                ]
                            },
                            "data": [
                                {
                                    "(No column name)": "3"
                                }
                            ]
                        },
                        "text/html": "<table><tr><th>(No column name)</th></tr><tr><td>3</td></tr></table>"
                    },
                    "metadata": {}
                }
            ],
            "execution_count": 5
        },
        {
            "cell_type": "markdown",
            "source": [
                "# Criando Sequência para um tabela"
            ],
            "metadata": {
                "azdata_cell_guid": "15e83a7b-9f7d-45e7-93b8-7fed5649652a"
            },
            "attachments": {}
        },
        {
            "cell_type": "code",
            "source": [
                "--> Criando sequence\r\n",
                "CREATE SEQUENCE projetos_seq AS INT\r\n",
                "    START WITH 2\r\n",
                "    INCREMENT BY 1\r\n",
                "    NO MAXVALUE\r\n",
                "    NO CYCLE;\r\n",
                "\r\n",
                "\r\n",
                "--> Criando table\r\n",
                "CREATE TABLE dprojeto(\r\n",
                "    id_projeto INT,\r\n",
                "    nome_projeto VARCHAR(100) NOT NULL,\r\n",
                "    CONSTRAINT dareas_id_area_pk PRIMARY KEY(id_projeto)\r\n",
                ");\r\n",
                "\r\n",
                "\r\n",
                "--> Usando sequence para preencher table\r\n",
                "INSERT INTO dprojeto \r\n",
                "    (id_projeto, nome_projeto)\r\n",
                "VALUES\r\n",
                "    (NEXT VALUE FOR projetos_seq,  'Projeto A'),\r\n",
                "    (NEXT VALUE FOR projetos_seq,  'Desenvolvimento de app'),\r\n",
                "    (NEXT VALUE FOR projetos_seq,  'Projeto marte'),\r\n",
                "    (NEXT VALUE FOR projetos_seq,  'Operação cachorro quente');\r\n",
                ""
            ],
            "metadata": {
                "azdata_cell_guid": "ab25e1ba-b462-4721-b70e-7e175979dc5b",
                "language": "sql",
                "tags": []
            },
            "outputs": [
                {
                    "output_type": "display_data",
                    "data": {
                        "text/html": "(4 rows affected)"
                    },
                    "metadata": {}
                },
                {
                    "output_type": "display_data",
                    "data": {
                        "text/html": "Total execution time: 00:00:00.016"
                    },
                    "metadata": {}
                }
            ],
            "execution_count": 7
        },
        {
            "cell_type": "code",
            "source": [
                "SELECT * from dprojeto"
            ],
            "metadata": {
                "azdata_cell_guid": "d9df3274-4f43-4b65-b170-b435f36385f7",
                "language": "sql"
            },
            "outputs": [
                {
                    "output_type": "display_data",
                    "data": {
                        "text/html": "(4 rows affected)"
                    },
                    "metadata": {}
                },
                {
                    "output_type": "display_data",
                    "data": {
                        "text/html": "Total execution time: 00:00:00.023"
                    },
                    "metadata": {}
                },
                {
                    "output_type": "execute_result",
                    "execution_count": 8,
                    "data": {
                        "application/vnd.dataresource+json": {
                            "schema": {
                                "fields": [
                                    {
                                        "name": "id_projeto"
                                    },
                                    {
                                        "name": "nome_projeto"
                                    }
                                ]
                            },
                            "data": [
                                {
                                    "id_projeto": "2",
                                    "nome_projeto": "Projeto A"
                                },
                                {
                                    "id_projeto": "3",
                                    "nome_projeto": "Desenvolvimento de app"
                                },
                                {
                                    "id_projeto": "4",
                                    "nome_projeto": "Projeto marte"
                                },
                                {
                                    "id_projeto": "5",
                                    "nome_projeto": "Operação cachorro quente"
                                }
                            ]
                        },
                        "text/html": "<table><tr><th>id_projeto</th><th>nome_projeto</th></tr><tr><td>2</td><td>Projeto A</td></tr><tr><td>3</td><td>Desenvolvimento de app</td></tr><tr><td>4</td><td>Projeto marte</td></tr><tr><td>5</td><td>Operação cachorro quente</td></tr></table>"
                    },
                    "metadata": {}
                }
            ],
            "execution_count": 8
        },
        {
            "cell_type": "markdown",
            "source": [
                "# **EXERCICIOS**\n",
                "\n",
                "1. **Vamos criar sequences que serão utilizadas nas tabelas: Carro, Cliente e locações. Essas sequences serão chamadas de: cliente\\_seq, carro\\_seq e locação\\_seq. Todas essas sequences devem começar pelo número 1 incrementar de 1 em 1 e não terem valro máximo.**"
            ],
            "metadata": {
                "azdata_cell_guid": "3d069598-edba-44df-a4f9-87544aad7a1c"
            },
            "attachments": {}
        },
        {
            "cell_type": "code",
            "source": [
                "CREATE TABLE cliente (\r\n",
                "    id_cliente INT,\r\n",
                "    nome VARCHAR(100) NOT NULL,\r\n",
                "    idade INT,\r\n",
                "    CONSTRAINT id_cliente PRIMARY KEY (id_cliente)\r\n",
                ");\r\n",
                "\r\n",
                "CREATE TABLE carro (\r\n",
                "    id_carro INT,\r\n",
                "    nome VARCHAR(100) NOT NULL,\r\n",
                "    idade INT,\r\n",
                "    id_cliente INT,\r\n",
                "    CONSTRAINT id_carro PRIMARY KEY (id_carro)\r\n",
                "\r\n",
                ");\r\n",
                "\r\n",
                "\r\n",
                "CREATE TABLE locacao(\r\n",
                "    id_locacao INT,\r\n",
                "    nome varchar(100) NOT NULL,\r\n",
                "    dia_chekount DATE,\r\n",
                "    id_cliente int,\r\n",
                "    id_carro int,\r\n",
                "    CONSTRAINT id_locacao_pk PRIMARY KEY(id_cliente),\r\n",
                "    CONSTRAINT fk_cliente FOREIGN KEY (id_cliente) REFERENCES cliente(id_cliente),\r\n",
                "    CONSTRAINT fk_carro FOREIGN KEY (id_carro) REFERENCES carro(id_carro)\r\n",
                ");"
            ],
            "metadata": {
                "azdata_cell_guid": "74237e1f-4316-4601-8ddc-f3bbe3bfa56b",
                "language": "sql"
            },
            "outputs": [
                {
                    "output_type": "display_data",
                    "data": {
                        "text/html": "Commands completed successfully."
                    },
                    "metadata": {}
                },
                {
                    "output_type": "display_data",
                    "data": {
                        "text/html": "Total execution time: 00:00:00.048"
                    },
                    "metadata": {}
                }
            ],
            "execution_count": 8
        },
        {
            "cell_type": "code",
            "source": [
                "DROP SEQUENCE clientes_seq\r\n",
                "DROP SEQUENCE carro_seq\r\n",
                "DROP SEQUENCE locacao_seq\r\n",
                "\r\n",
                "CREATE SEQUENCE clientes_seq AS INT\r\n",
                "    START WITH 1\r\n",
                "    INCREMENT BY 1\r\n",
                "    NO MAXVALUE\r\n",
                "    NO CYCLE;\r\n",
                "\r\n",
                "CREATE SEQUENCE carro_seq AS INT\r\n",
                "    START WITH 1\r\n",
                "    INCREMENT BY 1\r\n",
                "    NO MAXVALUE\r\n",
                "    NO CYCLE;\r\n",
                "\r\n",
                "CREATE SEQUENCE locacao_seq AS INT\r\n",
                "    START WITH 1\r\n",
                "    INCREMENT BY 1\r\n",
                "    NO MAXVALUE\r\n",
                "    NO CYCLE;\r\n",
                "\r\n",
                "DROP TABLE locacao;\r\n",
                "DROP TABLE cliente;\r\n",
                "DROP TABLE carro;\r\n",
                "\r\n",
                "\r\n",
                "CREATE TABLE cliente(\r\n",
                "    id_cliente INT,\r\n",
                "    nome VARCHAR(100) NOT NULL,\r\n",
                "    idade INT,\r\n",
                "    CONSTRAINT id_cliente PRIMARY KEY (id_cliente)\r\n",
                ");\r\n",
                "CREATE TABLE carro (\r\n",
                "    id_carro INT,\r\n",
                "    nome VARCHAR(100) NOT NULL,\r\n",
                "    CONSTRAINT id_carro PRIMARY KEY (id_carro)\r\n",
                "\r\n",
                ");\r\n",
                "\r\n",
                "\r\n",
                "CREATE TABLE locacao(\r\n",
                "    id_locacao INT,\r\n",
                "    nome varchar(100) NOT NULL,\r\n",
                "    dia_chekount DATE,\r\n",
                "    id_cliente int,\r\n",
                "    id_carro int,\r\n",
                "    CONSTRAINT id_locacao_pk PRIMARY KEY(id_cliente),\r\n",
                "    CONSTRAINT fk_cliente FOREIGN KEY (id_cliente) REFERENCES cliente(id_cliente),\r\n",
                "    CONSTRAINT fk_carro FOREIGN KEY (id_carro) REFERENCES carro(id_carro)\r\n",
                ");"
            ],
            "metadata": {
                "azdata_cell_guid": "e3aed47e-edb3-494b-9cb0-07a09db0c012",
                "language": "sql",
                "tags": []
            },
            "outputs": [
                {
                    "output_type": "error",
                    "evalue": "Msg 2714, Level 16, State 8, Line 17\r\nJá existe um objeto com nome 'locacao_seq' no banco de dados.",
                    "ename": "",
                    "traceback": []
                },
                {
                    "output_type": "display_data",
                    "data": {
                        "text/html": "Total execution time: 00:00:00.002"
                    },
                    "metadata": {}
                }
            ],
            "execution_count": 26
        },
        {
            "cell_type": "code",
            "source": [
                "--> Inserindo dados nas tabelas\r\n",
                "INSERT INTO cliente (id_cliente, nome, idade)\r\n",
                "VALUES\r\n",
                "    (NEXT VALUE FOR clientes_seq, 'João Silva', 30),\r\n",
                "    (NEXT VALUE FOR clientes_seq, 'Maria Oliveira', 25),\r\n",
                "    (NEXT VALUE FOR clientes_seq, 'Carlos Souza', 40);\r\n",
                "\r\n",
                "INSERT INTO carro (id_carro, nome)\r\n",
                "VALUES\r\n",
                "    (NEXT VALUE FOR carro_seq, 'Toyota Corolla'),\r\n",
                "    (NEXT VALUE FOR carro_seq, 'Honda Civic'),\r\n",
                "    (NEXT VALUE FOR carro_seq, 'Ford Focus');\r\n",
                "\r\n",
                "INSERT INTO locacao (id_locacao, nome, dia_chekount, id_cliente, id_carro)\r\n",
                "VALUES\r\n",
                "    (NEXT VALUE FOR locacao_seq, 'Locação 1', '2023-10-01', 1, 1),\r\n",
                "    (NEXT VALUE FOR locacao_seq, 'Locação 2', '2023-10-02', 2, 2),\r\n",
                "    (NEXT VALUE FOR locacao_seq, 'Locação 3', '2023-10-03', 3, 3);"
            ],
            "metadata": {
                "azdata_cell_guid": "06f9fc7d-8fb3-4968-b369-1ee5a5f94d95",
                "language": "sql"
            },
            "outputs": [
                {
                    "output_type": "display_data",
                    "data": {
                        "text/html": "(3 rows affected)"
                    },
                    "metadata": {}
                },
                {
                    "output_type": "display_data",
                    "data": {
                        "text/html": "(3 rows affected)"
                    },
                    "metadata": {}
                },
                {
                    "output_type": "display_data",
                    "data": {
                        "text/html": "(3 rows affected)"
                    },
                    "metadata": {}
                },
                {
                    "output_type": "display_data",
                    "data": {
                        "text/html": "Total execution time: 00:00:00.009"
                    },
                    "metadata": {}
                }
            ],
            "execution_count": 27
        },
        {
            "cell_type": "code",
            "source": [
                "SELECT * from locacao"
            ],
            "metadata": {
                "azdata_cell_guid": "b829f4a3-9f7b-4d63-a6dd-6a793a5f00fa",
                "language": "sql"
            },
            "outputs": [
                {
                    "output_type": "display_data",
                    "data": {
                        "text/html": "(3 rows affected)"
                    },
                    "metadata": {}
                },
                {
                    "output_type": "display_data",
                    "data": {
                        "text/html": "Total execution time: 00:00:00.010"
                    },
                    "metadata": {}
                },
                {
                    "output_type": "execute_result",
                    "metadata": {},
                    "execution_count": 29,
                    "data": {
                        "application/vnd.dataresource+json": {
                            "schema": {
                                "fields": [
                                    {
                                        "name": "id_locacao"
                                    },
                                    {
                                        "name": "nome"
                                    },
                                    {
                                        "name": "dia_chekount"
                                    },
                                    {
                                        "name": "id_cliente"
                                    },
                                    {
                                        "name": "id_carro"
                                    }
                                ]
                            },
                            "data": [
                                {
                                    "id_locacao": "1",
                                    "nome": "Locação 1",
                                    "dia_chekount": "2023-10-01",
                                    "id_cliente": "1",
                                    "id_carro": "1"
                                },
                                {
                                    "id_locacao": "2",
                                    "nome": "Locação 2",
                                    "dia_chekount": "2023-10-02",
                                    "id_cliente": "2",
                                    "id_carro": "2"
                                },
                                {
                                    "id_locacao": "3",
                                    "nome": "Locação 3",
                                    "dia_chekount": "2023-10-03",
                                    "id_cliente": "3",
                                    "id_carro": "3"
                                }
                            ]
                        },
                        "text/html": [
                            "<table>",
                            "<tr><th>id_locacao</th><th>nome</th><th>dia_chekount</th><th>id_cliente</th><th>id_carro</th></tr>",
                            "<tr><td>1</td><td>Locação 1</td><td>2023-10-01</td><td>1</td><td>1</td></tr>",
                            "<tr><td>2</td><td>Locação 2</td><td>2023-10-02</td><td>2</td><td>2</td></tr>",
                            "<tr><td>3</td><td>Locação 3</td><td>2023-10-03</td><td>3</td><td>3</td></tr>",
                            "</table>"
                        ]
                    }
                }
            ],
            "execution_count": 29
        },
        {
            "cell_type": "code",
            "source": [
                ""
            ],
            "metadata": {
                "azdata_cell_guid": "71a80dd0-f143-4d91-941d-b5d8d5b62707",
                "language": "sql"
            },
            "outputs": [],
            "execution_count": null
        }
    ]
}