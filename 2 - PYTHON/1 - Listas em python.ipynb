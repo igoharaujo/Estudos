{
    "cells": [
        {
            "cell_type": "markdown",
            "metadata": {},
            "source": [
                "# Listas em Python\n",
                "\n",
                "## Documentação, listas: https://docs.python.org/3/tutorial/datastructures.html\n",
                "\n",
                "\n",
                "Em Python, uma **lista** é uma estrutura de dados que armazena uma coleção ordenada de elementos, que podem ser de diferentes tipos (números, strings, outras listas, etc.). As listas são mutáveis, ou seja, você pode modificar seus elementos após a criação.\n",
                "\n",
                "### Características das listas:\n",
                "- **Ordenadas**: Os itens são mantidos na ordem em que foram adicionados.\n",
                "- **Indexadas**: Cada item na lista tem um índice, começando do 0.\n",
                "- **Mutáveis**: Você pode alterar os itens da lista após a criação.\n",
                "- **Aceitam duplicatas**: É possível ter itens duplicados em uma lista.\n",
                "\n",
                "## Exemplo de uma lista em Python:\n",
                "\n",
                "```python\n",
                "# Criando uma lista com diferentes tipos de dados\n",
                "minha_lista = [1, \"Python\", 3.14, True]\n",
                "\n",
                "# Acessando o primeiro item (índice 0)\n",
                "print(minha_lista[0])  # Saída: 1\n",
                "\n",
                "# Alterando o valor do segundo item (índice 1)\n",
                "minha_lista[1] = \"Programação\"\n",
                "print(minha_lista)  # Saída: [1, 'Programação', 3.14, True]\n",
                "\n",
                "# Adicionando um novo item no final da lista\n",
                "minha_lista.append(\"Novo Item\")\n",
                "print(minha_lista)  # Saída: [1, 'Programação', 3.14, True, 'Novo Item']\n"
            ]
        },
        {
            "cell_type": "markdown",
            "metadata": {
                "azdata_cell_guid": "7fa4523d-b986-46c3-a1b1-7fb61c0d7970",
                "language": "sql",
                "vscode": {
                    "languageId": "sql"
                }
            },
            "source": [
                "## Estrutura:\n",
                "\n",
                "lista = [valor, valor, valor, valor, ...]\n",
                "\n",
                "- Lista é um dos objetos mais importantes de Python, por isso vamos trabalhar bastante neles\n",
                "- Quando importamos uma base de dados para o Python, normalmente ele é lido como uma \"lista\" ou como alguma \"variação de lista\"\n",
                "- Listas em Python foram feitas para serem homogêneas, apesar de aceitarem valores heterogêneos\n",
                "- Exemplos de Lista:\n",
                "\n",
                "Listas de Produtos de uma Loja:"
            ]
        },
        {
            "cell_type": "code",
            "execution_count": 54,
            "metadata": {},
            "outputs": [],
            "source": [
                "produtos = ['tv', 'celular', 'teclado', 'tablet']\n",
                "vendas = [200, 5000, 30, 1500]"
            ]
        },
        {
            "cell_type": "markdown",
            "metadata": {},
            "source": [
                "### 1 - Mudar o valor de uma lista:"
            ]
        },
        {
            "cell_type": "code",
            "execution_count": 55,
            "metadata": {},
            "outputs": [
                {
                    "data": {
                        "text/plain": [
                            "['tv', 'iphone', 'teclado', 'tablet']"
                        ]
                    },
                    "metadata": {},
                    "output_type": "display_data"
                },
                {
                    "data": {
                        "text/plain": [
                            "[200, 8000, 30, 1500]"
                        ]
                    },
                    "metadata": {},
                    "output_type": "display_data"
                }
            ],
            "source": [
                "produtos[1] = 'iphone'\n",
                "vendas[1] = 8000\n",
                "\n",
                "display(produtos)\n",
                "display(vendas)"
            ]
        },
        {
            "cell_type": "markdown",
            "metadata": {},
            "source": [
                "### 2 - Descobrir o indice de uma lista:"
            ]
        },
        {
            "cell_type": "code",
            "execution_count": 56,
            "metadata": {},
            "outputs": [
                {
                    "data": {
                        "text/plain": [
                            "1"
                        ]
                    },
                    "metadata": {},
                    "output_type": "display_data"
                }
            ],
            "source": [
                "display(produtos.index('iphone'))"
            ]
        },
        {
            "cell_type": "markdown",
            "metadata": {},
            "source": [
                "### Exercicio:\n",
                "- Crie um programa para fazer uma consulta de estoque. O usuário do programa deve inserir o nome do produto e, caso ele não exista na lista, ele deve ser avisado. Caso exista, o programa deve dizer a quantidade de unidades em estoque do produto"
            ]
        },
        {
            "cell_type": "code",
            "execution_count": 57,
            "metadata": {},
            "outputs": [
                {
                    "name": "stdout",
                    "output_type": "stream",
                    "text": [
                        "O produto tv tem 100 unidades em estoque\n"
                    ]
                }
            ],
            "source": [
                "estoque = ['tv', 'celular', 'teclado', 'tablet']\n",
                "unidades = [100, 1000, 200, 100]\n",
                "\n",
                "produto = input('Digite o nome do produto: ')\n",
                "\n",
                "if produto in estoque:\n",
                "    indice = estoque.index(produto)\n",
                "    print(f'O produto {produto} tem {unidades[indice]} unidades em estoque')\n",
                "else:\n",
                "    print(f'O produto {produto} não foi encontrado')\n"
            ]
        },
        {
            "cell_type": "markdown",
            "metadata": {},
            "source": [
                "### 3 - Adicionar e remover elementos de uma lista:\n",
                "\n",
                " #### Adicionar:\n",
                " - append() -> Adiciona um item ao final da lista\n",
                " - insert() -> Adiciona um item em uma posição específica\n",
                "\n",
                " #### Remover:\n",
                " - remove() -> Remove o primeiro item com o valor especificado"
            ]
        },
        {
            "cell_type": "code",
            "execution_count": 60,
            "metadata": {},
            "outputs": [
                {
                    "data": {
                        "text/plain": [
                            "['tv', 'mouse miranha', 'iphone', 'teclado', 'tablet', 'mouse']"
                        ]
                    },
                    "metadata": {},
                    "output_type": "display_data"
                }
            ],
            "source": [
                "produtos.append('mouse')\n",
                "produtos.insert(1, 'mouse miranha')\n",
                "\n",
                "display(produtos)\n"
            ]
        },
        {
            "cell_type": "code",
            "execution_count": 61,
            "metadata": {},
            "outputs": [
                {
                    "data": {
                        "text/plain": [
                            "['tv', 'iphone', 'teclado', 'tablet', 'mouse']"
                        ]
                    },
                    "metadata": {},
                    "output_type": "display_data"
                }
            ],
            "source": [
                "try:\n",
                "    produtos.remove('mouse miranha')\n",
                "except:\n",
                "    print('Produto não encontrado')\n",
                "\n",
                "display(produtos)\n"
            ]
        },
        {
            "cell_type": "markdown",
            "metadata": {},
            "source": [
                "### 4 - funções basicas de listas:\n",
                "- len() -> Retorna o número de elementos na lista\n",
                "- sum() -> Soma os elementos da lista\n",
                "- max() -> Retorna o maior elemento da lista\n",
                "- min() -> Retorna o menor elemento da lista\n"
            ]
        },
        {
            "cell_type": "code",
            "execution_count": 62,
            "metadata": {},
            "outputs": [
                {
                    "data": {
                        "text/plain": [
                            "5"
                        ]
                    },
                    "metadata": {},
                    "output_type": "display_data"
                },
                {
                    "data": {
                        "text/plain": [
                            "1400"
                        ]
                    },
                    "metadata": {},
                    "output_type": "display_data"
                },
                {
                    "data": {
                        "text/plain": [
                            "1000"
                        ]
                    },
                    "metadata": {},
                    "output_type": "display_data"
                },
                {
                    "data": {
                        "text/plain": [
                            "100"
                        ]
                    },
                    "metadata": {},
                    "output_type": "display_data"
                }
            ],
            "source": [
                "display(len(produtos))\n",
                "display(sum(unidades))\n",
                "display(max(unidades))\n",
                "display(min(unidades))"
            ]
        },
        {
            "cell_type": "markdown",
            "metadata": {},
            "source": [
                "### 5 - juntar e ordenar listaa:\n",
                "- extend() -> Adiciona os elementos de uma lista a outra\n",
                "- sort() -> Ordena a lista em ordem crescente\n",
                "- sorted() -> Retorna uma nova lista ordenada\n",
                "- reverse() -> Inverte a lista\n"
            ]
        },
        {
            "cell_type": "code",
            "execution_count": 63,
            "metadata": {},
            "outputs": [
                {
                    "data": {
                        "text/plain": [
                            "['tv', 'iphone', 'teclado', 'tablet', 'mouse', 'mesa', 'cadeira', 'sofa']"
                        ]
                    },
                    "metadata": {},
                    "output_type": "display_data"
                }
            ],
            "source": [
                "produtos2 = ['mesa', 'cadeira', 'sofa']\n",
                "produtos.extend(produtos2)\n",
                "\n",
                "display(produtos)\n"
            ]
        },
        {
            "cell_type": "code",
            "execution_count": 64,
            "metadata": {},
            "outputs": [
                {
                    "data": {
                        "text/plain": [
                            "['cadeira', 'iphone', 'mesa', 'mouse', 'sofa', 'tablet', 'teclado', 'tv']"
                        ]
                    },
                    "metadata": {},
                    "output_type": "display_data"
                },
                {
                    "data": {
                        "text/plain": [
                            "['cadeira', 'iphone', 'mesa', 'mouse', 'sofa', 'tablet', 'teclado', 'tv']"
                        ]
                    },
                    "metadata": {},
                    "output_type": "display_data"
                }
            ],
            "source": [
                "produtos.sort()\n",
                "display(produtos)\n",
                "display(sorted(produtos))"
            ]
        },
        {
            "cell_type": "markdown",
            "metadata": {},
            "source": []
        },
        {
            "cell_type": "markdown",
            "metadata": {},
            "source": [
                "### 6 - Juntar listas:\n",
                "- join() -> Junta os elementos de uma lista em uma string\n",
                "- split() -> Divide uma string em uma lista"
            ]
        },
        {
            "cell_type": "code",
            "execution_count": 71,
            "metadata": {},
            "outputs": [
                {
                    "data": {
                        "text/plain": [
                            "'cadeira - iphone - mesa - mouse - sofa - tablet - teclado - tv'"
                        ]
                    },
                    "metadata": {},
                    "output_type": "display_data"
                }
            ],
            "source": [
                "\n",
                "display(' - '.join(produtos))\n",
                "#teste = produtos.split(',')"
            ]
        },
        {
            "cell_type": "markdown",
            "metadata": {},
            "source": [
                "### 7 - Exercicios:\n",
                "\n",
                "1 - Faturamento do Melhor e do Pior Mês do Ano\n",
                "\n",
                "    Qual foi o valor de vendas do melhor mês do Ano? E valor do pior mês do ano?\n",
                "\n",
                "\n",
                "2 - Continuação\n",
                "\n",
                "    Agora relacione as duas listas para printar 'O melhor mês do ano foi {} com {} vendas' e o mesmo para o pior mês do ano. \n",
                "    Calcule também o faturamento total do Ano e quanto que o melhor mês representou do faturamento total.\n",
                "    Obs: Para o faturamento total, pode usar a função sum(lista) que soma todos os itens de uma lista\n"
            ]
        },
        {
            "cell_type": "code",
            "execution_count": 77,
            "metadata": {},
            "outputs": [],
            "source": [
                "meses = ['jan', 'fev', 'mar', 'abr', 'mai', 'jun', 'jul', 'ago', 'set', 'out', 'nov', 'dez']\n",
                "vendas_1sem = [25000, 29000, 22200, 17750, 15870, 19900]\n",
                "vendas_2sem = [19850, 20120, 17540, 15555, 49051, 9650]"
            ]
        },
        {
            "cell_type": "code",
            "execution_count": 83,
            "metadata": {},
            "outputs": [
                {
                    "data": {
                        "text/plain": [
                            "'O melhor mês do ano foi nov com 49051 vendas'"
                        ]
                    },
                    "metadata": {},
                    "output_type": "display_data"
                },
                {
                    "data": {
                        "text/plain": [
                            "'O pior mês do ano foi dez com 9650 vendas'"
                        ]
                    },
                    "metadata": {},
                    "output_type": "display_data"
                }
            ],
            "source": [
                "# --> 1\n",
                "# juntar as duas listas\n",
                "vendas_1sem.extend(vendas_2sem)\n",
                "\n",
                "if max(vendas_1sem)in vendas_1sem and min(vendas_1sem) in vendas_1sem:\n",
                "    index = vendas_1sem.index(max(vendas_1sem))\n",
                "    index2 = vendas_1sem.index(min(vendas_1sem))\n",
                "    display(f'O melhor mês do ano foi {meses[index]} com {max(vendas_1sem)} vendas')\n",
                "    display(f'O pior mês do ano foi {meses[index2]} com {min(vendas_1sem)} vendas')\n"
            ]
        },
        {
            "cell_type": "markdown",
            "metadata": {},
            "source": [
                "### 8 - Listas de listas:\n",
                "\n",
                "Cada item de uma lsita pode ser qualquer tipo de objeto, incluindo outra lista\n",
                "Quando dentro de uma lista temos listas, estamos falando de uma lista de listas\n",
                "\n"
            ]
        },
        {
            "cell_type": "code",
            "execution_count": 85,
            "metadata": {},
            "outputs": [
                {
                    "data": {
                        "text/plain": [
                            "300"
                        ]
                    },
                    "metadata": {},
                    "output_type": "display_data"
                }
            ],
            "source": [
                "vendedores = ['Maria', 'José', 'Antônio', 'João', 'Francisco', 'Ana']\n",
                "produtos = ['tv', 'celular', 'tablet']\n",
                "vendas = [\n",
                "    [100, 200, 300], # Maria\n",
                "    [200, 300, 400], # José\n",
                "    [300, 400, 500], # Antônio\n",
                "    [400, 500, 600], # João\n",
                "    [500, 600, 700], # Francisco\n",
                "    [600, 700, 800], # Ana\n",
                "]\n",
                "\n",
                "# Para pegar quanto josé vendeu de celular:\n",
                "display(vendas[1][1])#oi"
            ]
        },
        {
            "cell_type": "code",
            "execution_count": 86,
            "metadata": {},
            "outputs": [],
            "source": [
                "# Exercício 1\n",
                "# Crie um sistema de cadastro de produtos em uma lista de produtos\n",
                "# Seu sistema deve:\n",
                "# - Pegar o usuário qual produto vai ser cadastrado por meio de um input\n",
                "# - Garantir que se o usuário escrever com letra maiúscula ou minúscula, o produto continua sendo o mesmo produto\n",
                "# - Se o usuário inserir um produto que já existe na lista, o programa deve printar a mensagem \"Produto já existente, tente novamente\"\n",
                "# - Se o usuário inserir um produto que não existe na lista, o programa deve inserir na lista, printar a mensagem Produto X cadastrado com sucesso e em seguida printar a lista completa\n",
                "\n",
                "produtos = [\"celular\", \"camera\", \"fone de ouvido\", \"monitor\"]\n",
                "\n",
                "\n",
                "# Exercício 2\n",
                "# Crie um sistema de consulta de preços\n",
                "# Seu sistema deve:\n",
                "# - Pedir para o usuário o nome de um produto\n",
                "# - Caso o produto exista na lista de produtos, o programa deve retornar o preço do produto como resposta\n",
                "#        - Ex: O produto celular custa R$1500\n",
                "# - Caso o produto não exista na lista de produtos, o programa deve printar uma mensagem para o usuário tentar novamente\n",
                "produtos = [\"celular\", \"camera\", \"fone de ouvido\", \"monitor\"]\n",
                "precos = [1500, 1000, 800, 2000]\n",
                "\n",
                "\n",
                "# Exercício 3\n",
                "# Crie um sistema de consulta de bônus dos funcionários\n",
                "# Seu sistema deve:\n",
                "# - Pegar o valor de vendas do funcinoário por meio de um input\n",
                "# - Calcular o bônus do funcionário de acordo com a seguinte regra:\n",
                "#       - Se o funcionário vendeu mais de 1000 unidades, ele ganha R$2 de bonus para cada unidade vendida\n",
                "#       - Se o funcionário vendeu mais de 5000 unidades, ele ganha R$2 de bônus para cada unidade + um valor fixo de R$1000\n",
                "#       - Se o funcionário vendeu menos de 1000 unidades, ele não ganha bônus\n",
                "# - Printar no final o valor do bônus do funcionário\n",
                "\n",
                "\n",
                "# Exercício 4\n",
                "# Crie um programa que consiga descobrir qual dos vendedores vendeu mais\n",
                "# As vendas dos vendedores são listas com a quantidade vendida por cada vendedor\n",
                "\n",
                "vendas = [\n",
                "    [10, 20, 100, 80, 90, 100, 20, 30, 44, 55, 33, 34, 100, 90, 80, 39, 87, 45, 50, 50, 50, 50, 40, 30, 3, 93, 39, 49, 88],    \n",
                "    [100, 1, 1, 4, 5, 90, 100, 20, 4, 5, 100, 100, 100, 100, 100, 93, 20, 15, 40, 90, 90, 90, 90, 90, 90, 33, 22, 44, 43, 34],\n",
                "]\n"
            ]
        }
    ],
    "metadata": {
        "kernelspec": {
            "display_name": "Python 3",
            "language": "python",
            "name": "python3"
        },
        "language_info": {
            "codemirror_mode": {
                "name": "ipython",
                "version": 3
            },
            "file_extension": ".py",
            "mimetype": "text/x-python",
            "name": "python",
            "nbconvert_exporter": "python",
            "pygments_lexer": "ipython3",
            "version": "3.12.3"
        }
    },
    "nbformat": 4,
    "nbformat_minor": 2
}
