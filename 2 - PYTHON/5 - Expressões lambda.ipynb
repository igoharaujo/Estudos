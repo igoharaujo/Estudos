{
 "cells": [
  {
   "cell_type": "markdown",
   "metadata": {},
   "source": [
    "# Expressões Lambda em Python\n",
    "\n",
    "As **expressões lambda** em Python são uma maneira concisa de criar funções anônimas (sem nome) de forma inline. Elas são particularmente úteis quando você precisa de uma função rápida e simples que será usada apenas uma vez.\n",
    "\n",
    "## Sintaxe\n",
    "\n",
    "A sintaxe de uma expressão lambda é a seguinte:\n",
    "\n",
    "```python\n",
    "lambda argumentos: expressão\n",
    "\n",
    "exemplos:\n",
    "soma = lambda x: x + 1\n",
    "soma(2)\n",
    "resultado = 3\n",
    "\n",
    "--- ----- -----\n",
    "\n",
    "list(map(lambda x: x + 1, [1, 2, 3]))\n",
    "```"
   ]
  },
  {
   "cell_type": "markdown",
   "metadata": {},
   "source": [
    "### Funções MAP\n",
    "\n",
    "Em Python, funções podem ser passadas como **parâmetros** para outras funções, o que permite grande flexibilidade e uso eficiente de **funções de ordem superior** (funções que recebem outras funções como argumentos). Uma das funções mais comuns que aceita outras funções como parâmetro é o **`map`**.\n",
    "\n",
    "### O que é a Função `map`?\n",
    "\n",
    "A função **`map`** é uma função embutida em Python que aplica uma função a cada item de um iterável (como listas ou tuplas) e retorna um **iterador** com os resultados. É uma maneira poderosa de processar dados de forma concisa.\n",
    "\n",
    "### Sintaxe:\n",
    "```python\n",
    "map(funcao, iterável)\n",
    "\n",
    "--------------------\n"
   ]
  },
  {
   "cell_type": "markdown",
   "metadata": {},
   "source": [
    "### 1 - Usando Expressões Lambda em conjunto com a função `map`\n",
    "\n",
    "- A função `map` aplica uma função a cada item de um iterável (como uma lista) e retorna um novo iterável com os resultados.\n",
    "- As expressões lambda são frequentemente usadas com `map` para processar elementos de uma lista de forma concisa.\n",
    "\n",
    "```python\n",
    "exemplo = [1, 2, 3, 4]\n",
    "\n",
    "list(map(lambda x: x + 1, exemplo))\n",
    "```\n"
   ]
  }
 ],
 "metadata": {
  "kernelspec": {
   "display_name": "Python 3",
   "language": "python",
   "name": "python3"
  },
  "language_info": {
   "codemirror_mode": {
    "name": "ipython",
    "version": 3
   },
   "file_extension": ".py",
   "mimetype": "text/x-python",
   "name": "python",
   "nbconvert_exporter": "python",
   "pygments_lexer": "ipython3",
   "version": "3.12.3"
  }
 },
 "nbformat": 4,
 "nbformat_minor": 2
}
