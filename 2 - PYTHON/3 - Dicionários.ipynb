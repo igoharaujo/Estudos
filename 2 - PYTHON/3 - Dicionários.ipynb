{
 "cells": [
  {
   "cell_type": "markdown",
   "metadata": {},
   "source": [
    "## O que é um Dicionário em Python?\n",
    "\n",
    "Um **dicionário** em Python é uma estrutura de dados que armazena pares de **chave:valor**. Cada chave dentro de um dicionário é única, e pode ser usada para acessar o valor associado a ela. Os dicionários são mutáveis, o que significa que você pode modificar suas entradas após a criação.\n",
    "\n",
    "Dicionários são definidos com **chaves** `{}` e os pares de chave e valor são separados por dois pontos `:`.\n",
    "\n",
    "### Exemplo de Dicionário:\n",
    "```python\n",
    "meu_dicionario = {\n",
    "    \"nome\": \"Python\",\n",
    "    \"ano\": 1991,\n",
    "    \"criador\": \"Guido van Rossum\"\n",
    "}\n",
    "\n"
   ]
  },
  {
   "cell_type": "markdown",
   "metadata": {},
   "source": [
    "### 1 - Acessando Valores em um Dicionário"
   ]
  },
  {
   "cell_type": "code",
   "execution_count": 23,
   "metadata": {},
   "outputs": [
    {
     "data": {
      "text/plain": [
       "14300"
      ]
     },
     "metadata": {},
     "output_type": "display_data"
    },
    {
     "data": {
      "text/plain": [
       "14300"
      ]
     },
     "metadata": {},
     "output_type": "display_data"
    },
    {
     "data": {
      "text/plain": [
       "{'iphone': 15000, 'samsung galaxy': 12000, 'tv samsung': 10000, 'ps5': 14300}"
      ]
     },
     "execution_count": 23,
     "metadata": {},
     "output_type": "execute_result"
    }
   ],
   "source": [
    "vendas_samsung = {\n",
    "    \"Galaxy S21\": 10000,\n",
    "    \"Galaxy S22\": 14000,\n",
    "    \"Galaxy S23\": 18000\n",
    "}\n",
    "\n",
    "vendas = {\n",
    "    \"iphone\": 15000,\n",
    "    \"samsung galaxy\": 12000,\n",
    "    \"tv samsung\": 10000,\n",
    "    \"ps5\": 14300\n",
    "}\n",
    "\n",
    "display(vendas.get('ps5'))\n",
    "display(vendas['ps5'])\n",
    "vendas\n"
   ]
  },
  {
   "cell_type": "markdown",
   "metadata": {},
   "source": [
    "### 2 - Adicionando e Modificando Valores em um Dicionário\n",
    "\n",
    "metodos:\n",
    "- update() -> atualiza o dicionário com os valores de outro dicionário\n",
    "- clear() -> remove todos os elementos do dicionário\n",
    "- pop() -> remove o elemento com a chave especificada e retorna o valor associado\n",
    "- del -> remove o elemento com a chave especificada\n"
   ]
  },
  {
   "cell_type": "code",
   "execution_count": 24,
   "metadata": {},
   "outputs": [
    {
     "data": {
      "text/plain": [
       "{'iphone': 15000,\n",
       " 'samsung galaxy': 12000,\n",
       " 'tv samsung': 10000,\n",
       " 'ps5': 14300,\n",
       " 'Galaxy S21': 10000,\n",
       " 'Galaxy S22': 14000,\n",
       " 'Galaxy S23': 18000}"
      ]
     },
     "metadata": {},
     "output_type": "display_data"
    },
    {
     "data": {
      "text/plain": [
       "{'iphone': 15000,\n",
       " 'samsung galaxy': 12000,\n",
       " 'ps5': 14300,\n",
       " 'Galaxy S21': 10000,\n",
       " 'Galaxy S22': 14000,\n",
       " 'Galaxy S23': 18000}"
      ]
     },
     "metadata": {},
     "output_type": "display_data"
    },
    {
     "data": {
      "text/plain": [
       "{'samsung galaxy': 12000,\n",
       " 'ps5': 14300,\n",
       " 'Galaxy S21': 10000,\n",
       " 'Galaxy S22': 14000,\n",
       " 'Galaxy S23': 18000}"
      ]
     },
     "metadata": {},
     "output_type": "display_data"
    }
   ],
   "source": [
    "# Atualiza o dicionário com os valores de vendas_samsung com update\n",
    "vendas.update(vendas_samsung)\n",
    "display(vendas)\n",
    "\n",
    "# Remove o elemento com a chave 'tv samsung' com del\n",
    "del vendas['tv samsung']\n",
    "display(vendas)\n",
    "\n",
    "# Remove o elemento com a chave 'iphone' com pop e retorna o valor associado\n",
    "vendas.pop('iphone')\n",
    "display(vendas)\n"
   ]
  },
  {
   "cell_type": "markdown",
   "metadata": {},
   "source": [
    "# Exercícios\n",
    "\n",
    "### Identificando Locais de Risco\n",
    "\n",
    "(Não conhecemos muito dos números e indicadores reais, esse é um exercício imaginário para treinarmos com um cenário mais prático)\n",
    "\n",
    "Digamos que você está construindo um programa para identificar níveis de CO2 (gás carbônico) em determinados locais para evitar potenciais acidentes. Em cada um desses locais a sua empresa tem 5 sensores que captam o nível de CO2 do local.\n",
    "\n",
    "Os níveis normais de CO2 são em média 350. O nível de CO2 de um local é dado pela média captada pelos 5 sensores.\n",
    "\n",
    "Isso significa que se tivermos os 5 sensores do Rio de Janeiro marcando: 350, 400, 450, 350, 300, o nível de CO2 do Rio de Janeiro será dado por: (350 + 400 + 450 + 350 + 300) / 5 = 370.\n",
    "\n",
    "Caso o nível seja maior do que 450, um aviso deve ser exibido pelo seu programa dizendo, por exemplo: Rio de Janeiro está com níveis altíssimos de CO2 (490), chamar equipe especializada para verificar a região.\n",
    "\n",
    "Os resultados dos sensores são monitorados frequentemente e são dados para o sistema em forma de dicionário:\n",
    "\n",
    "\n"
   ]
  },
  {
   "cell_type": "code",
   "execution_count": 25,
   "metadata": {},
   "outputs": [],
   "source": [
    "niveis_co2 = {\n",
    "    'AC': [325,405,429,486,402],\n",
    "    'AL': [492,495,310,407,388],\n",
    "    'AP': [507,503,368,338,400],\n",
    "    'AM': [429,456,352,377,363],\n",
    "    'BA': [321,508,372,490,412],\n",
    "    'CE': [424,328,425,516,480],\n",
    "    'ES': [449,506,461,337,336],\n",
    "    'GO': [425,460,385,485,460],\n",
    "    'MA': [361,310,344,425,490],\n",
    "    'MT': [358,402,425,386,379],\n",
    "    'MS': [324,357,441,405,427],\n",
    "    'MG': [345,367,391,427,516],\n",
    "    'PA': [479,514,392,493,329],\n",
    "    'PB': [418,499,317,302,476],\n",
    "    'PR': [420,508,419,396,327],\n",
    "    'PE': [404,444,495,320,343],\n",
    "    'PI': [513,513,304,377,475],\n",
    "    'RJ': [502,481,492,502,506],\n",
    "    'RN': [446,437,519,356,317],\n",
    "    'RS': [427,518,459,317,321],\n",
    "    'RO': [517,466,512,326,458],\n",
    "    'RR': [466,495,469,495,310],\n",
    "    'SC': [495,436,382,483,479],\n",
    "    'SP': [495,407,362,389,317],\n",
    "    'SE': [508,351,334,389,418],\n",
    "    'TO': [339,490,304,488,419],\n",
    "    'DF': [376,516,320,310,518], \n",
    "}"
   ]
  },
  {
   "cell_type": "code",
   "execution_count": 80,
   "metadata": {},
   "outputs": [
    {
     "name": "stdout",
     "output_type": "stream",
     "text": [
      "Estado não encontrado\n"
     ]
    }
   ],
   "source": [
    "estado = input('Digite o estado: ')\n",
    "\n",
    "sum(niveis_co2['DF'])/5\n",
    "\n",
    "for estados in niveis_co2:\n",
    "\n",
    "    if estado in estados:\n",
    "        co2 =sum(niveis_co2[estado])/5\n",
    "        if co2 > 490:\n",
    "            print(f'{co2}: {estado} CHAMA A EQUIPE ESPECIAL')\n",
    "        elif co2 > 450:\n",
    "            print(f'{co2}: {estado} está com níveis altíssimos de CO2')\n",
    "        else:\n",
    "            print(f'{co2}: {estado} está com níveis normais de CO2')\n",
    "    else:\n",
    "        print('Estado não encontrado')\n",
    "        break\n"
   ]
  },
  {
   "cell_type": "markdown",
   "metadata": {},
   "source": [
    "### 3 - Transformando listas em dicionários\n",
    "\n",
    "formas:\n",
    "- dict(zip(lista1, lista2))                             -> cria um dicionário a partir de duas listas\n",
    "- {chave:valor for chave, valor in zip(lista1, lista2)} -> cria um dicionário a partir de duas listas\n",
    "- dict.fromkeys(lista1, valor)                          -> cria um dicionário a partir de uma lista, com o valor fornecido para todas as chaves\n"
   ]
  },
  {
   "cell_type": "code",
   "execution_count": 85,
   "metadata": {},
   "outputs": [
    {
     "data": {
      "text/plain": [
       "{'iphone': 7500,\n",
       " 'galaxy': 7500,\n",
       " 'ipad': 7500,\n",
       " 'apple watch': 7500,\n",
       " 'macbook': 7500,\n",
       " 'airpods': 7500}"
      ]
     },
     "execution_count": 85,
     "metadata": {},
     "output_type": "execute_result"
    }
   ],
   "source": [
    "produtos = ['iphone', 'galaxy', 'ipad', 'apple watch', 'macbook', 'airpods']\n",
    "valores = [7500, 6500, 1500, 2700, 9000, 1200]\n",
    "\n",
    "dicionario = dict(zip(produtos, valores))\n",
    "dicionario\n",
    "\n"
   ]
  },
  {
   "cell_type": "code",
   "execution_count": null,
   "metadata": {},
   "outputs": [],
   "source": [
    "# Exercício 1\n",
    "# Crie um sistema de consulta de preços\n",
    "# Seu sistema deve:\n",
    "# - Pedir para o usuário o nome de um produto\n",
    "# - Caso o produto exista na lista de produtos, o programa deve retornar o preço do produto como resposta\n",
    "#        - Ex: O produto celular custa R$1500\n",
    "# - Caso o produto não exista na lista de produtos, o programa deve printar uma mensagem para o usuário tentar novamente\n",
    "precos = {\"celular\": 1500, \"camera\": 1000, \"fone de ouvido\": 800, \"monitor\": 2000}\n",
    "\n",
    "\n",
    "# Exercício 2\n",
    "# Agora edite o programa anterior para fazer com que, caso não exista o produto, o programa pergunte se o usuário quer cadastrar o produto\n",
    "# Se ele responder sim, o programa deve pedir o nome do produto e o preco do produto e cadastrar no dicionário de preços\n",
    "# Em seguida do cadastro bem sucedido, o programa deve printar o dicionário de precos atualizado\n",
    "\n",
    "\n",
    "# Exercício 3\n",
    "# Dada a lista de preços de produtos, uma loja resolveu fazer um reajuste nos preços dos produtos. \n",
    "# calcule o novo valor dos produtos com base nas seguintes regras:\n",
    "# Preços até 1.000 vão ter um reajuste de 10% (ou seja, o novo preço será 110% do preço atual)\n",
    "# Preços até maiores que 1.000 até 2.000 vão ter reajuste de 15%\n",
    "# Preços acima de 2.000 vão ter reajuste de 20%\n",
    "precos = {\"celular\": 1500, \"camera\": 1000, \"fone de ouvido\": 800, \"monitor\": 3000}\n",
    "\n",
    "# Exercício 4\n",
    "# Edite o programa antigo para ter os 2 dicionários, o de preços originais e o de novos preços\n",
    "# Em seguida calcule o valor total de reajuste em R$ que teve entre a lista de produtos original e a lista final\n",
    "\n",
    "# Exercício 5\n",
    "# Uma empresa está analisando os resultados de vendas do 1º semestre de 2022 e 2023\n",
    "# Qual foi o % de crescimento de cada mês de 2023 em relação a 2022?\n",
    "# Depois de calcular isso, calcule o valor total de crescimento de 2023 em relação a 2022\n",
    "vendas_22 = {\"jan\": 15000, \"fev\": 15500, \"mar\": 14000, \"abr\": 16600, \"mai\": 16300, \"jun\": 17000}\n",
    "vendas_23 = {\"jan\": 17000, \"fev\": 15000, \"mar\": 17500, \"abr\": 16900, \"mai\": 16000, \"jun\": 18500}\n",
    "\n",
    "\n",
    "# Exercício 6 - Desafio\n",
    "# No final da reunião de apresentação dos números, seu chefe perguntou:\n",
    "# E se nos meses de 2023 que a gente vendeu menos do que 2022 a gente tivesse pelo menos empatado com 2022 (ou seja, se nos meses de 2023 em que as vendas foram menores do que o mesmo mês em 2022, o valor de vendas tivesse sido igual a 2022)\n",
    "# Qual teria sido o nosso crescimento de 2023 frente a 2022?\n",
    "\n"
   ]
  }
 ],
 "metadata": {
  "kernelspec": {
   "display_name": "Python 3",
   "language": "python",
   "name": "python3"
  },
  "language_info": {
   "codemirror_mode": {
    "name": "ipython",
    "version": 3
   },
   "file_extension": ".py",
   "mimetype": "text/x-python",
   "name": "python",
   "nbconvert_exporter": "python",
   "pygments_lexer": "ipython3",
   "version": "3.12.3"
  }
 },
 "nbformat": 4,
 "nbformat_minor": 2
}
