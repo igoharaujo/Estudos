{
 "cells": [
  {
   "cell_type": "markdown",
   "metadata": {},
   "source": [
    "# Expressões Regulares\n",
    "\n",
    "- Regex é uma sequência de caracteres que define um padrão de busca.\n",
    "- Utilizado para localizar, validar e manipular texto.\n",
    "- Python possui um módulo integrado para expressões regulares: `re`.\n",
    "- Usamos para encontrar padrões em strings.\n",
    "\n",
    "----------------------\n",
    "\n",
    "\n",
    "- `re.compile()` -> Compila uma expressão regular em um padrão.\n",
    "- `re.search()` -> Procura por um padrão em uma string.\n",
    "- `re.findall()` -> Encontra todas as ocorrências de um padrão em uma string.\n",
    "- `re.split()` -> Divide uma string em uma lista, usando um padrão como delimitador.\n",
    "- `re.sub()` -> Substitui todas as ocorrências de um padrão em uma string.\n",
    "\n",
    "\n"
   ]
  },
  {
   "cell_type": "markdown",
   "metadata": {},
   "source": [
    "### Operadores\n",
    "\n",
    "    [] – conjunto de  caracteres;\n",
    "    \\ – sequência especial de caracteres;\n",
    "    ^ – buscar elementos no início da string;\n",
    "    $ – buscar elementos no final da string;\n",
    "    * – buscar zero ou mais repetições de uma substring;\n",
    "    + – uma ou mais aparições de uma substring;\n",
    "    ? – zero ou uma aparição;\n",
    "    | – busca um caractere ou outro.\n",
    "    {} - quantidade específica de caracteres\n",
    "    [^] - diferente de um caractere especificado logo após o ^\n",
    "    () - apenas para agrupar regras e definir ordem de aplicação (igual matemática)\n",
    "\n",
    "### Especificando caracteres:\n",
    "    . - qualquer caractere\n",
    "    \\d - qualquer dígito\n",
    "    \\D - não é dígito\n",
    "    \\w - qualquer alfanumérico\n",
    "    \\W - não é alfanumérico\n",
    "    \\s - espaço em branco\n",
    "    \\S - não é espaço em branco\n",
    "\n",
    "#### obs: lembre de usar a string como raw string\n",
    "\n",
    "### Funções\n",
    "#### Lembre sempre de importar a biblioteca re\n",
    "\n",
    "- re.compile('padrao_regex') -> compilar um padrão regex\n",
    "- re.search(padrao_compilado, texto) -> procura uma ocorrência do padrão no texto (re.match só procura na 1ª linha do texto)\n",
    "- re.findall(padrao_compilado, texto) -> encontra todas as ocorrencias do padrão em um texto - armazena em uma lista\n",
    "- re.finditer(padrao_compilado, texto) -> encontra todas as ocorrencias e armazena em um iterador"
   ]
  },
  {
   "cell_type": "code",
   "execution_count": 209,
   "metadata": {},
   "outputs": [],
   "source": [
    "texto = \"\"\"\n",
    "Bom dia,\n",
    "\n",
    "Seguem os orçamentos solicitados:\n",
    "\n",
    "\n",
    "Cerveja importada (330ml) - R$12,30598615178 - bebida\n",
    "Cerveja nacional (0,5 litros) - R$6,10 - bebida\n",
    "Garrafa de vinho (750ml) - R$39,90 - bebida\n",
    "Água (garrafa de 1,5 litros) - R$300,30 - bebida\n",
    "Alface (1 unidade) - R$3,50 - comida\n",
    "Cebolas (1kg) - R$5,10 - comida\n",
    "Batatas (1 kg) - R$5,20 - comida\n",
    "Tomates (1 kg) - R$7,90 - comida\n",
    "Laranjas (1 kg) - R$4,70 - comida\n",
    "Bananas (1kg) - R$5,50 - comida\n",
    "Maçãs (1 kg) - R$8,30 - comida\n",
    "Queijo fresco (1 kg) - R$42,90 - comida\n",
    "Uma dúzia de ovos(12) - R$9,80 - comida\n",
    "Arroz (1 kg) - R$5,70 - comida\n",
    "Um quilo de pão (1 kg) - R$7,20 - comida\n",
    "Leite (1 litro) - R$5,20 - bebida\n",
    "Azeite (1 unidade) - R$20 - tempero\n",
    "Pimenta Reino (20g) - R$5 - tempero\n",
    "\n",
    "\n",
    "Favor informar as quantidades desejadas \n",
    "para emissão da Nota Fiscal.\n",
    "\n",
    "Att.,\"\"\""
   ]
  },
  {
   "cell_type": "markdown",
   "metadata": {},
   "source": [
    "### re.findall"
   ]
  },
  {
   "cell_type": "code",
   "execution_count": 17,
   "metadata": {},
   "outputs": [
    {
     "name": "stdout",
     "output_type": "stream",
     "text": [
      "['330 ml']\n",
      "['bebida', 'bebida', 'bebida', 'bebida', 'bebida']\n"
     ]
    }
   ],
   "source": [
    "import re\n",
    "# ache o padrão de 3 dígitos seguidos de 2 letras\n",
    "padrao = re.compile(r'\\d{3} [a-zA-Z]{2}')\n",
    "resultado = padrao.findall(texto)\n",
    "print(resultado)\n",
    "\n",
    "\n",
    "# quantas bebidas\n",
    "padrao = re.compile('bebida')\n",
    "print(padrao.findall(texto))"
   ]
  },
  {
   "cell_type": "markdown",
   "metadata": {},
   "source": [
    "### re.search"
   ]
  },
  {
   "cell_type": "code",
   "execution_count": 23,
   "metadata": {},
   "outputs": [
    {
     "name": "stdout",
     "output_type": "stream",
     "text": [
      "<re.Match object; span=(95, 101), match='bebida'>\n",
      "bebida\n"
     ]
    }
   ],
   "source": [
    "padrao = re.compile('bebida')\n",
    "resultado = padrao.search(texto)\n",
    "print(resultado)\n",
    "print(resultado.group()) # -> retorna apenas a substring que corresponde ao padrão\n",
    "\n",
    "\n",
    "#<re.Match object; span=(95, 101), match='bebida'>\n",
    "# span é a posição onde a substring começa e termina\n",
    "# match é a substring que corresponde ao padrão\n"
   ]
  },
  {
   "cell_type": "markdown",
   "metadata": {},
   "source": [
    "### re.finditer"
   ]
  },
  {
   "cell_type": "code",
   "execution_count": 26,
   "metadata": {},
   "outputs": [
    {
     "name": "stdout",
     "output_type": "stream",
     "text": [
      "<callable_iterator object at 0x10c921ff0>\n",
      "<re.Match object; span=(95, 101), match='bebida'>\n",
      "<re.Match object; span=(143, 149), match='bebida'>\n",
      "<re.Match object; span=(187, 193), match='bebida'>\n",
      "<re.Match object; span=(234, 240), match='bebida'>\n",
      "<re.Match object; span=(652, 658), match='bebida'>\n"
     ]
    }
   ],
   "source": [
    "padrao = re.compile('bebida')\n",
    "resultado = padrao.finditer(texto)\n",
    "print(resultado)\n",
    "\n",
    "# Nos da como resposta um iterador, então podemos iterar sobre ele\n",
    "for match in resultado:\n",
    "    print(match)"
   ]
  },
  {
   "cell_type": "markdown",
   "metadata": {},
   "source": [
    "### 1 - Exercicíos\n",
    "\n",
    "##### 1.1 - Extrair todo os preços"
   ]
  },
  {
   "cell_type": "code",
   "execution_count": 234,
   "metadata": {},
   "outputs": [
    {
     "name": "stdout",
     "output_type": "stream",
     "text": [
      "['R$12,30', 'R$6,10', 'R$39,90', 'R$300,30', 'R$3,50', 'R$5,10', 'R$5,20', 'R$7,90', 'R$4,70', 'R$5,50', 'R$8,30', 'R$42,90', 'R$9,80', 'R$5,70', 'R$7,20', 'R$5,20', 'R$20 ', 'R$5 ']\n",
      "\n",
      "- Usando + e ?:\n",
      "['R$12,30', 'R$6,10', 'R$39,90', 'R$300,30', 'R$3,50', 'R$5,10', 'R$5,20', 'R$7,90', 'R$4,70', 'R$5,50', 'R$8,30', 'R$42,90', 'R$9,80', 'R$5,70', 'R$7,20', 'R$5,20', 'R$20 ', 'R$5 ']\n",
      "\n",
      "- usando ():\n",
      "['12,30598615178', '6,10', '39,90', '300,30', '3,50', '5,10', '5,20', '7,90', '4,70', '5,50', '8,30', '42,90', '9,80', '5,70', '7,20', '5,20', '20', '5']\n"
     ]
    }
   ],
   "source": [
    "padrao = re.compile(r\"R\\$\\d{0,6}.\\d{0,2}\")\n",
    "resultado = padrao.findall(texto)\n",
    "print(resultado)\n",
    "\n",
    "\n",
    "print('\\n- Usando + e ?:')\n",
    "padrao = re.compile(r\"R\\$\\d+.\\d?\\d?\")\n",
    "resultado = padrao.findall(texto)\n",
    "print(resultado)\n",
    "\n",
    "\n",
    "print('\\n- usando ():')\n",
    "padrao = re.compile(r\"\\w\\$(\\d+,?\\d*)\") # colocando o () para capturar apenas o valor que esta dentro dele, estamos usando o $ como regra, mas não estamos usando ele no resultado\n",
    "resultado = padrao.findall(texto)\n",
    "print(resultado)"
   ]
  },
  {
   "cell_type": "markdown",
   "metadata": {},
   "source": [
    "#### 1.2 - Extrair todos os nomes dos produtos\n",
    "\n",
    "#### 1.3 - Extrair a qtd de ml(do 1º item)\n",
    "\n",
    "#### 1.4 - Extrair tudo que esta entre parênteses"
   ]
  },
  {
   "cell_type": "code",
   "execution_count": 221,
   "metadata": {},
   "outputs": [
    {
     "name": "stdout",
     "output_type": "stream",
     "text": [
      "['Cerveja importada', 'Cerveja nacional', 'Garrafa de vinho', 'Água', 'Alface', 'Cebolas', 'Batatas', 'Tomates', 'Laranjas', 'Bananas', 'Maçãs', 'Queijo fresco', 'Uma dúzia de', 'Arroz', 'Um quilo de pão', 'Leite', 'Azeite', 'Pimenta Reino']\n"
     ]
    }
   ],
   "source": [
    "#1.2\n",
    "padrao = re.compile(r\"\\D\\n(\\w[a-zA-Zà-úÀ-ÚçÇ ]*\\w) \") #pega todas as palavras que tem espaço depos da quebra de linha\n",
    "resultado = padrao.findall(texto)\n",
    "print(resultado[1:-1])"
   ]
  },
  {
   "cell_type": "code",
   "execution_count": 233,
   "metadata": {},
   "outputs": [
    {
     "name": "stdout",
     "output_type": "stream",
     "text": [
      "330ml\n"
     ]
    }
   ],
   "source": [
    "#1.3\n",
    "padrao = re.compile(r\"\\d+\\wml\")\n",
    "resultado = padrao.findall(texto)\n",
    "print(resultado[0])\n",
    "#1.4"
   ]
  },
  {
   "cell_type": "code",
   "execution_count": 276,
   "metadata": {},
   "outputs": [
    {
     "name": "stdout",
     "output_type": "stream",
     "text": [
      "['(330ml)', '(0,5 litros)', '(750ml)', '(garrafa de 1,5 litros)', '(1 unidade)', '(1kg)', '(1 kg)', '(1 kg)', '(1 kg)', '(1kg)', '(1 kg)', '(1 kg)', '(12)', '(1 kg)', '(1 kg)', '(1 litro)', '(1 unidade)', '(20g)']\n"
     ]
    }
   ],
   "source": [
    "#1.4\n",
    "padrao = re.compile(r\"\\(.+\\)\")\n",
    "resultado = padrao.findall(texto)\n",
    "print(resultado)"
   ]
  },
  {
   "cell_type": "code",
   "execution_count": 236,
   "metadata": {},
   "outputs": [],
   "source": [
    "texto2 = \"\"\"\n",
    "Olá\n",
    "\n",
    "Segue o relatório de SEO para os seguintes sites:\n",
    "https://portalhashtag.com\n",
    "http://hashtagtreinamentos.com\n",
    "https://www.wikipedia.org/\n",
    "www.bcb.gov.br/\n",
    "\n",
    "Qualquer dúvida estamos à disposição\"\"\""
   ]
  },
  {
   "cell_type": "code",
   "execution_count": 279,
   "metadata": {},
   "outputs": [
    {
     "name": "stdout",
     "output_type": "stream",
     "text": [
      "['https://portalhashtag.com', 'http://hashtagtreinamentos.com', 'https://www.wikipedia.org/']\n"
     ]
    }
   ],
   "source": [
    "# Pegar links\n",
    "padrao = re.compile(r\"https?.*.\")\n",
    "resultado = padrao.findall(texto2)\n",
    "print(resultado)\n"
   ]
  }
 ],
 "metadata": {
  "kernelspec": {
   "display_name": "Python 3",
   "language": "python",
   "name": "python3"
  },
  "language_info": {
   "codemirror_mode": {
    "name": "ipython",
    "version": 3
   },
   "file_extension": ".py",
   "mimetype": "text/x-python",
   "name": "python",
   "nbconvert_exporter": "python",
   "pygments_lexer": "ipython3",
   "version": "3.12.3"
  }
 },
 "nbformat": 4,
 "nbformat_minor": 2
}
