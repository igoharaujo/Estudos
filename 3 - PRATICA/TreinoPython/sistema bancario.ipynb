{
 "cells": [
  {
   "cell_type": "markdown",
   "metadata": {},
   "source": [
    "# Conta Bancaria \n",
    "Criar uma conta onde as pessoas podem fazer depositos, e retiradas e consultar conta."
   ]
  },
  {
   "cell_type": "code",
   "execution_count": 27,
   "metadata": {},
   "outputs": [],
   "source": [
    "class Conta:\n",
    "    def __init__(self,cpf, conta, saldo):\n",
    "        self.cpf = cpf\n",
    "        self.conta = conta\n",
    "        self.saldo = saldo\n",
    "    \n",
    "    def deposito(self, deposito):\n",
    "        if deposito > 0:\n",
    "            self.saldo = self.saldo + deposito\n",
    "        else:\n",
    "            print('Deposito não efetuado')\n",
    "    \n",
    "    def saque(self, saque):\n",
    "        if self.saldo < saque:\n",
    "            print('Valor solicitado é maior que o saldo')\n",
    "        else:\n",
    "            self.saldo = self.saldo - saque\n",
    "            \n",
    "    def transferencia(self, conta, transferencia):\n",
    "        if self.saldo > transferencia:\n",
    "            Conta(conta=conta).saldo \n",
    "\n",
    "\n",
    "    "
   ]
  },
  {
   "cell_type": "code",
   "execution_count": 30,
   "metadata": {},
   "outputs": [],
   "source": [
    "igor = Conta('123.321.978.21', '132', 0.0)\n"
   ]
  },
  {
   "cell_type": "code",
   "execution_count": 31,
   "metadata": {},
   "outputs": [],
   "source": [
    "igor.deposito(1000.0)"
   ]
  },
  {
   "cell_type": "code",
   "execution_count": 35,
   "metadata": {},
   "outputs": [
    {
     "name": "stdout",
     "output_type": "stream",
     "text": [
      "Valor solicitado é maior que o saldo\n"
     ]
    }
   ],
   "source": [
    "igor.saque(1000.0)"
   ]
  },
  {
   "cell_type": "code",
   "execution_count": 1,
   "metadata": {
    "vscode": {
     "languageId": "sql"
    }
   },
   "outputs": [
    {
     "name": "stdout",
     "output_type": "stream",
     "text": [
      "oi\n"
     ]
    }
   ],
   "source": [
    "print('oi')"
   ]
  }
 ],
 "metadata": {
  "kernelspec": {
   "display_name": "Python 3",
   "language": "python",
   "name": "python3"
  },
  "language_info": {
   "codemirror_mode": {
    "name": "ipython",
    "version": 3
   },
   "file_extension": ".py",
   "mimetype": "text/x-python",
   "name": "python",
   "nbconvert_exporter": "python",
   "pygments_lexer": "ipython3",
   "version": "3.12.3"
  }
 },
 "nbformat": 4,
 "nbformat_minor": 2
}
